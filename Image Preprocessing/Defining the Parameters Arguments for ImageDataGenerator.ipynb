{
  "metadata": {
    "kernelspec": {
      "name": "python",
      "display_name": "Python (Pyodide)",
      "language": "python"
    },
    "language_info": {
      "codemirror_mode": {
        "name": "python",
        "version": 3
      },
      "file_extension": ".py",
      "mimetype": "text/x-python",
      "name": "python",
      "nbconvert_exporter": "python",
      "pygments_lexer": "ipython3",
      "version": "3.8"
    }
  },
  "nbformat_minor": 5,
  "nbformat": 4,
  "cells": [
    {
      "cell_type": "code",
      "source": "import keras\nfrom keras.preprocessing.image import ImageDataGenerator",
      "metadata": {
        "trusted": true
      },
      "execution_count": null,
      "outputs": [],
      "id": "d94147a0-ea54-4ede-978d-904e11ad9051"
    },
    {
      "cell_type": "code",
      "source": "#Define the parameters/arguments for ImageDataGenerator class\ntrain_datagen=ImageDataGenerator(rescale=1./255,shear_range=0.2,rotation_range=180,zoom_range=0.2,horizontal_flip=True)\n\ntest_datagen=ImageDataGenerator(rescale=1./255)",
      "metadata": {},
      "execution_count": null,
      "outputs": [],
      "id": "9b18f7e8-2b0b-4bc4-ac94-ec70fc40dfe9"
    }
  ]
}