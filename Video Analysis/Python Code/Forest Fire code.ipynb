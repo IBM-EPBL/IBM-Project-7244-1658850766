{
  "metadata": {
    "kernelspec": {
      "name": "python",
      "display_name": "Python (Pyodide)",
      "language": "python"
    },
    "language_info": {
      "codemirror_mode": {
        "name": "python",
        "version": 3
      },
      "file_extension": ".py",
      "mimetype": "text/x-python",
      "name": "python",
      "nbconvert_exporter": "python",
      "pygments_lexer": "ipython3",
      "version": "3.8"
    }
  },
  "nbformat_minor": 5,
  "nbformat": 4,
  "cells": [
    {
      "cell_type": "code",
      "source": "account_sid = 'AC6981743c2fda3548359b3cba6459b343'  #account_sid = os.environ['TWILIO_ACCOUNT_SID']\nauth_token = 'd12b6fb9cee94d69c0d4b14cc687549b'     #auth_token = os.environ['TWILIO_AUTH_TOKEN']\nclient = Client(account_sid, auth_token)\n\nmessage = client.messages \\\n    .create(\n         body='Stay Alert!!!! Forest Fire is Detected...',\n         from_='+18312734662',\n         to='+917373083830'\n     )\n\nprint(message.sid)",
      "metadata": {},
      "execution_count": null,
      "outputs": [],
      "id": "0a1283de-8e09-4d0f-8328-17d5175110aa"
    },
    {
      "cell_type": "code",
      "source": "#import opencv library\nimport cv2\n#import numpy\nimport numpy as np\n#import image function from keras\nfrom tensorflow.keras.preprocessing import image\n#import load_model from keras\nfrom keras.models import load_model\n#import Client from twilio API\nfrom twilio.rest import Client\n#import playsound package\nfrom playsound import playsound\n#from PIL import image\n#load the saved model\nmodel=load_model('../forest1.h5')\n#define video\nvideo=cv2.VideoCapture(0)\n#define the features\nname=['forest','with fire']\nwhile(1):\n  success,frame=video.read()\n  cv2.imwrite(\"../ffproj/image.jpg\",frame)\n  img=image.load_img(\"../ffproj/image.jpg\",target_size=(64,64))\n  x=image.img_to_array(img)\n  res = cv2.resize(x, dsize=(128, 128), interpolation=cv2.INTER_CUBIC)\n  x=np.expand_dims(res,axis=0)\n  pred=model.predict(x)\n  p=pred[0]\n  print(pred)\n  cv2.putText(frame,\"predicted class = \"+str(p),(100,100),cv2.FONT_HERSHEY_SIMPLEX,1,(0,0,0))\n  if pred[0]==1:\n    #twilio account ssid\n    account_sid='AC50d663c8a7c2d8b35b1fc09dfda93bda'\n    #twilio account authentication token\n    auth_token ='86f345babfa094d1015a0e1137dbb679'\n    client=Client(account_sid,auth_token)\n\n    message=client.messages \\\n    .create(\n        body='Stay Alert!!! Forest Fire is Detected...',\n        #use twilio free number\n        from_='+18312734662',\n        #to number\n        to='+91 7373083830')\n    print(message.sid)\n    print('Fire Detected')\n    print('SMS sent!')\n    playsound('../tornado-siren-in-streamwood-il-35510.mp3')\n  else:\n    print('No Danger')\n    #break\n  cv2.imshow(\"image\",frame)\n  if cv2.waitKey(1) & 0xFF == ord('a'):\n     break\nvideo.release()\ncv2.destroyAllWindows()",
      "metadata": {
        "trusted": true
      },
      "execution_count": null,
      "outputs": [],
      "id": "576411a0-eded-4a0f-9090-b787add9183e"
    },
    {
      "cell_type": "code",
      "source": "",
      "metadata": {},
      "execution_count": null,
      "outputs": [],
      "id": "8f4b6fc1-57e6-4573-8f68-f5670f1c750a"
    }
  ]
}