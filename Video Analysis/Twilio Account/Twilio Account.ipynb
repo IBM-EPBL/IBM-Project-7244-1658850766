{
  "metadata": {
    "kernelspec": {
      "name": "python",
      "display_name": "Python (Pyodide)",
      "language": "python"
    },
    "language_info": {
      "codemirror_mode": {
        "name": "python",
        "version": 3
      },
      "file_extension": ".py",
      "mimetype": "text/x-python",
      "name": "python",
      "nbconvert_exporter": "python",
      "pygments_lexer": "ipython3",
      "version": "3.8"
    }
  },
  "nbformat_minor": 5,
  "nbformat": 4,
  "cells": [
    {
      "cell_type": "code",
      "source": "account_sid = 'AC6981743c2fda3548359b3cba6459b343'  #account_sid = os.environ['TWILIO_ACCOUNT_SID']\nauth_token = 'd12b6fb9cee94d69c0d4b14cc687549b'     #auth_token = os.environ['TWILIO_AUTH_TOKEN']\nclient = Client(account_sid, auth_token)\n\nmessage = client.messages \\\n    .create(\n         body='Stay Alert!!!! Forest Fire is Detected...',\n         from_='+18312734662',\n         to='+917373083830'\n     )\n\nprint(message.sid)",
      "metadata": {},
      "execution_count": null,
      "outputs": [],
      "id": "0a1283de-8e09-4d0f-8328-17d5175110aa"
    }
  ]
}